{
 "cells": [
  {
   "cell_type": "code",
   "execution_count": 2,
   "metadata": {},
   "outputs": [],
   "source": [
    "import pandas as pd"
   ]
  },
  {
   "cell_type": "code",
   "execution_count": 3,
   "metadata": {},
   "outputs": [],
   "source": [
    "movies_df = pd.read_csv(r'E:\\Projects\\Movie_Recommendation\\artifacts\\movies.csv')\n",
    "ratings_df = pd.read_csv(r'E:\\Projects\\Movie_Recommendation\\artifacts\\ratings.csv')"
   ]
  },
  {
   "cell_type": "code",
   "execution_count": 4,
   "metadata": {},
   "outputs": [],
   "source": [
    "movies_info = movies_df.merge(ratings_df, on='movieId')"
   ]
  },
  {
   "cell_type": "code",
   "execution_count": 5,
   "metadata": {},
   "outputs": [
    {
     "data": {
      "text/html": [
       "<div>\n",
       "<style scoped>\n",
       "    .dataframe tbody tr th:only-of-type {\n",
       "        vertical-align: middle;\n",
       "    }\n",
       "\n",
       "    .dataframe tbody tr th {\n",
       "        vertical-align: top;\n",
       "    }\n",
       "\n",
       "    .dataframe thead th {\n",
       "        text-align: right;\n",
       "    }\n",
       "</style>\n",
       "<table border=\"1\" class=\"dataframe\">\n",
       "  <thead>\n",
       "    <tr style=\"text-align: right;\">\n",
       "      <th></th>\n",
       "      <th>movieId</th>\n",
       "      <th>title</th>\n",
       "      <th>genres</th>\n",
       "      <th>userId</th>\n",
       "      <th>rating</th>\n",
       "      <th>timestamp</th>\n",
       "    </tr>\n",
       "  </thead>\n",
       "  <tbody>\n",
       "    <tr>\n",
       "      <th>0</th>\n",
       "      <td>1</td>\n",
       "      <td>Toy Story (1995)</td>\n",
       "      <td>Adventure|Animation|Children|Comedy|Fantasy</td>\n",
       "      <td>2</td>\n",
       "      <td>3.5</td>\n",
       "      <td>1141415820</td>\n",
       "    </tr>\n",
       "    <tr>\n",
       "      <th>1</th>\n",
       "      <td>1</td>\n",
       "      <td>Toy Story (1995)</td>\n",
       "      <td>Adventure|Animation|Children|Comedy|Fantasy</td>\n",
       "      <td>3</td>\n",
       "      <td>4.0</td>\n",
       "      <td>1439472215</td>\n",
       "    </tr>\n",
       "    <tr>\n",
       "      <th>2</th>\n",
       "      <td>1</td>\n",
       "      <td>Toy Story (1995)</td>\n",
       "      <td>Adventure|Animation|Children|Comedy|Fantasy</td>\n",
       "      <td>4</td>\n",
       "      <td>3.0</td>\n",
       "      <td>1573944252</td>\n",
       "    </tr>\n",
       "    <tr>\n",
       "      <th>3</th>\n",
       "      <td>1</td>\n",
       "      <td>Toy Story (1995)</td>\n",
       "      <td>Adventure|Animation|Children|Comedy|Fantasy</td>\n",
       "      <td>5</td>\n",
       "      <td>4.0</td>\n",
       "      <td>858625949</td>\n",
       "    </tr>\n",
       "    <tr>\n",
       "      <th>4</th>\n",
       "      <td>1</td>\n",
       "      <td>Toy Story (1995)</td>\n",
       "      <td>Adventure|Animation|Children|Comedy|Fantasy</td>\n",
       "      <td>8</td>\n",
       "      <td>4.0</td>\n",
       "      <td>890492517</td>\n",
       "    </tr>\n",
       "    <tr>\n",
       "      <th>...</th>\n",
       "      <td>...</td>\n",
       "      <td>...</td>\n",
       "      <td>...</td>\n",
       "      <td>...</td>\n",
       "      <td>...</td>\n",
       "      <td>...</td>\n",
       "    </tr>\n",
       "    <tr>\n",
       "      <th>25000090</th>\n",
       "      <td>209157</td>\n",
       "      <td>We (2018)</td>\n",
       "      <td>Drama</td>\n",
       "      <td>119571</td>\n",
       "      <td>1.5</td>\n",
       "      <td>1574280748</td>\n",
       "    </tr>\n",
       "    <tr>\n",
       "      <th>25000091</th>\n",
       "      <td>209159</td>\n",
       "      <td>Window of the Soul (2001)</td>\n",
       "      <td>Documentary</td>\n",
       "      <td>115835</td>\n",
       "      <td>3.0</td>\n",
       "      <td>1574280985</td>\n",
       "    </tr>\n",
       "    <tr>\n",
       "      <th>25000092</th>\n",
       "      <td>209163</td>\n",
       "      <td>Bad Poems (2018)</td>\n",
       "      <td>Comedy|Drama</td>\n",
       "      <td>6964</td>\n",
       "      <td>4.5</td>\n",
       "      <td>1574284913</td>\n",
       "    </tr>\n",
       "    <tr>\n",
       "      <th>25000093</th>\n",
       "      <td>209169</td>\n",
       "      <td>A Girl Thing (2001)</td>\n",
       "      <td>(no genres listed)</td>\n",
       "      <td>119571</td>\n",
       "      <td>3.0</td>\n",
       "      <td>1574291826</td>\n",
       "    </tr>\n",
       "    <tr>\n",
       "      <th>25000094</th>\n",
       "      <td>209171</td>\n",
       "      <td>Women of Devil's Island (1962)</td>\n",
       "      <td>Action|Adventure|Drama</td>\n",
       "      <td>119571</td>\n",
       "      <td>3.0</td>\n",
       "      <td>1574291937</td>\n",
       "    </tr>\n",
       "  </tbody>\n",
       "</table>\n",
       "<p>25000095 rows × 6 columns</p>\n",
       "</div>"
      ],
      "text/plain": [
       "          movieId                           title  \\\n",
       "0               1                Toy Story (1995)   \n",
       "1               1                Toy Story (1995)   \n",
       "2               1                Toy Story (1995)   \n",
       "3               1                Toy Story (1995)   \n",
       "4               1                Toy Story (1995)   \n",
       "...           ...                             ...   \n",
       "25000090   209157                       We (2018)   \n",
       "25000091   209159       Window of the Soul (2001)   \n",
       "25000092   209163                Bad Poems (2018)   \n",
       "25000093   209169             A Girl Thing (2001)   \n",
       "25000094   209171  Women of Devil's Island (1962)   \n",
       "\n",
       "                                               genres  userId  rating  \\\n",
       "0         Adventure|Animation|Children|Comedy|Fantasy       2     3.5   \n",
       "1         Adventure|Animation|Children|Comedy|Fantasy       3     4.0   \n",
       "2         Adventure|Animation|Children|Comedy|Fantasy       4     3.0   \n",
       "3         Adventure|Animation|Children|Comedy|Fantasy       5     4.0   \n",
       "4         Adventure|Animation|Children|Comedy|Fantasy       8     4.0   \n",
       "...                                               ...     ...     ...   \n",
       "25000090                                        Drama  119571     1.5   \n",
       "25000091                                  Documentary  115835     3.0   \n",
       "25000092                                 Comedy|Drama    6964     4.5   \n",
       "25000093                           (no genres listed)  119571     3.0   \n",
       "25000094                       Action|Adventure|Drama  119571     3.0   \n",
       "\n",
       "           timestamp  \n",
       "0         1141415820  \n",
       "1         1439472215  \n",
       "2         1573944252  \n",
       "3          858625949  \n",
       "4          890492517  \n",
       "...              ...  \n",
       "25000090  1574280748  \n",
       "25000091  1574280985  \n",
       "25000092  1574284913  \n",
       "25000093  1574291826  \n",
       "25000094  1574291937  \n",
       "\n",
       "[25000095 rows x 6 columns]"
      ]
     },
     "execution_count": 5,
     "metadata": {},
     "output_type": "execute_result"
    }
   ],
   "source": [
    "movies_info"
   ]
  },
  {
   "cell_type": "code",
   "execution_count": 6,
   "metadata": {},
   "outputs": [],
   "source": [
    "user_rating_threshold = 500\n",
    "active_users = movies_info.groupby('userId')['rating'].count() > user_rating_threshold\n"
   ]
  },
  {
   "cell_type": "code",
   "execution_count": 7,
   "metadata": {},
   "outputs": [],
   "source": [
    "active_users_indices = active_users[active_users == True].index"
   ]
  },
  {
   "cell_type": "code",
   "execution_count": 8,
   "metadata": {},
   "outputs": [
    {
     "data": {
      "text/plain": [
       "userId\n",
       "1         False\n",
       "2         False\n",
       "3          True\n",
       "4         False\n",
       "5         False\n",
       "          ...  \n",
       "162537    False\n",
       "162538    False\n",
       "162539    False\n",
       "162540    False\n",
       "162541    False\n",
       "Name: rating, Length: 162541, dtype: bool"
      ]
     },
     "execution_count": 8,
     "metadata": {},
     "output_type": "execute_result"
    }
   ],
   "source": [
    "active_users"
   ]
  },
  {
   "cell_type": "code",
   "execution_count": 9,
   "metadata": {},
   "outputs": [
    {
     "data": {
      "text/plain": [
       "Index([     3,     12,     72,     80,    120,    166,    171,    175,    181,\n",
       "          187,\n",
       "       ...\n",
       "       162386, 162387, 162394, 162445, 162481, 162484, 162495, 162508, 162516,\n",
       "       162519],\n",
       "      dtype='int64', name='userId', length=9663)"
      ]
     },
     "execution_count": 9,
     "metadata": {},
     "output_type": "execute_result"
    }
   ],
   "source": [
    "active_users_indices"
   ]
  },
  {
   "cell_type": "code",
   "execution_count": 10,
   "metadata": {},
   "outputs": [],
   "source": [
    "movies_watched_by_active_users = movies_info[movies_info['userId'].isin(active_users_indices)]\n",
    "movie_rating_threshold = 500\n",
    "popular_movies = movies_watched_by_active_users.groupby('movieId')['rating'].count() > movie_rating_threshold\n",
    "popular_movie_indices = popular_movies[popular_movies == True].index\n",
    "\n",
    "final_list_movies = movies_watched_by_active_users[movies_watched_by_active_users['movieId'].isin(popular_movie_indices)]\n",
    "final_list_movies = final_list_movies.drop_duplicates()"
   ]
  },
  {
   "cell_type": "code",
   "execution_count": 11,
   "metadata": {},
   "outputs": [
    {
     "data": {
      "text/html": [
       "<div>\n",
       "<style scoped>\n",
       "    .dataframe tbody tr th:only-of-type {\n",
       "        vertical-align: middle;\n",
       "    }\n",
       "\n",
       "    .dataframe tbody tr th {\n",
       "        vertical-align: top;\n",
       "    }\n",
       "\n",
       "    .dataframe thead th {\n",
       "        text-align: right;\n",
       "    }\n",
       "</style>\n",
       "<table border=\"1\" class=\"dataframe\">\n",
       "  <thead>\n",
       "    <tr style=\"text-align: right;\">\n",
       "      <th></th>\n",
       "      <th>movieId</th>\n",
       "      <th>title</th>\n",
       "      <th>genres</th>\n",
       "      <th>userId</th>\n",
       "      <th>rating</th>\n",
       "      <th>timestamp</th>\n",
       "    </tr>\n",
       "  </thead>\n",
       "  <tbody>\n",
       "    <tr>\n",
       "      <th>1</th>\n",
       "      <td>1</td>\n",
       "      <td>Toy Story (1995)</td>\n",
       "      <td>Adventure|Animation|Children|Comedy|Fantasy</td>\n",
       "      <td>3</td>\n",
       "      <td>4.0</td>\n",
       "      <td>1439472215</td>\n",
       "    </tr>\n",
       "    <tr>\n",
       "      <th>6</th>\n",
       "      <td>1</td>\n",
       "      <td>Toy Story (1995)</td>\n",
       "      <td>Adventure|Animation|Children|Comedy|Fantasy</td>\n",
       "      <td>12</td>\n",
       "      <td>4.0</td>\n",
       "      <td>1167582601</td>\n",
       "    </tr>\n",
       "    <tr>\n",
       "      <th>35</th>\n",
       "      <td>1</td>\n",
       "      <td>Toy Story (1995)</td>\n",
       "      <td>Adventure|Animation|Children|Comedy|Fantasy</td>\n",
       "      <td>120</td>\n",
       "      <td>5.0</td>\n",
       "      <td>956264593</td>\n",
       "    </tr>\n",
       "    <tr>\n",
       "      <th>47</th>\n",
       "      <td>1</td>\n",
       "      <td>Toy Story (1995)</td>\n",
       "      <td>Adventure|Animation|Children|Comedy|Fantasy</td>\n",
       "      <td>166</td>\n",
       "      <td>4.0</td>\n",
       "      <td>942014736</td>\n",
       "    </tr>\n",
       "    <tr>\n",
       "      <th>49</th>\n",
       "      <td>1</td>\n",
       "      <td>Toy Story (1995)</td>\n",
       "      <td>Adventure|Animation|Children|Comedy|Fantasy</td>\n",
       "      <td>171</td>\n",
       "      <td>4.5</td>\n",
       "      <td>1074594380</td>\n",
       "    </tr>\n",
       "    <tr>\n",
       "      <th>...</th>\n",
       "      <td>...</td>\n",
       "      <td>...</td>\n",
       "      <td>...</td>\n",
       "      <td>...</td>\n",
       "      <td>...</td>\n",
       "      <td>...</td>\n",
       "    </tr>\n",
       "    <tr>\n",
       "      <th>24961053</th>\n",
       "      <td>195159</td>\n",
       "      <td>Spider-Man: Into the Spider-Verse (2018)</td>\n",
       "      <td>Action|Adventure|Animation|Sci-Fi</td>\n",
       "      <td>161675</td>\n",
       "      <td>3.0</td>\n",
       "      <td>1565376240</td>\n",
       "    </tr>\n",
       "    <tr>\n",
       "      <th>24961059</th>\n",
       "      <td>195159</td>\n",
       "      <td>Spider-Man: Into the Spider-Verse (2018)</td>\n",
       "      <td>Action|Adventure|Animation|Sci-Fi</td>\n",
       "      <td>161919</td>\n",
       "      <td>4.5</td>\n",
       "      <td>1547069919</td>\n",
       "    </tr>\n",
       "    <tr>\n",
       "      <th>24961070</th>\n",
       "      <td>195159</td>\n",
       "      <td>Spider-Man: Into the Spider-Verse (2018)</td>\n",
       "      <td>Action|Adventure|Animation|Sci-Fi</td>\n",
       "      <td>162257</td>\n",
       "      <td>4.5</td>\n",
       "      <td>1550942623</td>\n",
       "    </tr>\n",
       "    <tr>\n",
       "      <th>24961071</th>\n",
       "      <td>195159</td>\n",
       "      <td>Spider-Man: Into the Spider-Verse (2018)</td>\n",
       "      <td>Action|Adventure|Animation|Sci-Fi</td>\n",
       "      <td>162271</td>\n",
       "      <td>3.0</td>\n",
       "      <td>1566338203</td>\n",
       "    </tr>\n",
       "    <tr>\n",
       "      <th>24961075</th>\n",
       "      <td>195159</td>\n",
       "      <td>Spider-Man: Into the Spider-Verse (2018)</td>\n",
       "      <td>Action|Adventure|Animation|Sci-Fi</td>\n",
       "      <td>162516</td>\n",
       "      <td>3.5</td>\n",
       "      <td>1571015852</td>\n",
       "    </tr>\n",
       "  </tbody>\n",
       "</table>\n",
       "<p>7215412 rows × 6 columns</p>\n",
       "</div>"
      ],
      "text/plain": [
       "          movieId                                     title  \\\n",
       "1               1                          Toy Story (1995)   \n",
       "6               1                          Toy Story (1995)   \n",
       "35              1                          Toy Story (1995)   \n",
       "47              1                          Toy Story (1995)   \n",
       "49              1                          Toy Story (1995)   \n",
       "...           ...                                       ...   \n",
       "24961053   195159  Spider-Man: Into the Spider-Verse (2018)   \n",
       "24961059   195159  Spider-Man: Into the Spider-Verse (2018)   \n",
       "24961070   195159  Spider-Man: Into the Spider-Verse (2018)   \n",
       "24961071   195159  Spider-Man: Into the Spider-Verse (2018)   \n",
       "24961075   195159  Spider-Man: Into the Spider-Verse (2018)   \n",
       "\n",
       "                                               genres  userId  rating  \\\n",
       "1         Adventure|Animation|Children|Comedy|Fantasy       3     4.0   \n",
       "6         Adventure|Animation|Children|Comedy|Fantasy      12     4.0   \n",
       "35        Adventure|Animation|Children|Comedy|Fantasy     120     5.0   \n",
       "47        Adventure|Animation|Children|Comedy|Fantasy     166     4.0   \n",
       "49        Adventure|Animation|Children|Comedy|Fantasy     171     4.5   \n",
       "...                                               ...     ...     ...   \n",
       "24961053            Action|Adventure|Animation|Sci-Fi  161675     3.0   \n",
       "24961059            Action|Adventure|Animation|Sci-Fi  161919     4.5   \n",
       "24961070            Action|Adventure|Animation|Sci-Fi  162257     4.5   \n",
       "24961071            Action|Adventure|Animation|Sci-Fi  162271     3.0   \n",
       "24961075            Action|Adventure|Animation|Sci-Fi  162516     3.5   \n",
       "\n",
       "           timestamp  \n",
       "1         1439472215  \n",
       "6         1167582601  \n",
       "35         956264593  \n",
       "47         942014736  \n",
       "49        1074594380  \n",
       "...              ...  \n",
       "24961053  1565376240  \n",
       "24961059  1547069919  \n",
       "24961070  1550942623  \n",
       "24961071  1566338203  \n",
       "24961075  1571015852  \n",
       "\n",
       "[7215412 rows x 6 columns]"
      ]
     },
     "execution_count": 11,
     "metadata": {},
     "output_type": "execute_result"
    }
   ],
   "source": [
    "final_list_movies"
   ]
  },
  {
   "cell_type": "code",
   "execution_count": 12,
   "metadata": {},
   "outputs": [
    {
     "data": {
      "text/plain": [
       "3950"
      ]
     },
     "execution_count": 12,
     "metadata": {},
     "output_type": "execute_result"
    }
   ],
   "source": [
    "final_list_movies['movieId'].nunique()"
   ]
  },
  {
   "cell_type": "code",
   "execution_count": 13,
   "metadata": {},
   "outputs": [],
   "source": [
    "final_movies_info = final_list_movies[['movieId','title']].drop_duplicates()\n",
    "user_item = final_list_movies.pivot_table(index='title', columns='userId', values='rating', fill_value=0)\n"
   ]
  },
  {
   "cell_type": "code",
   "execution_count": 14,
   "metadata": {},
   "outputs": [
    {
     "data": {
      "text/plain": [
       "(3950, 9663)"
      ]
     },
     "execution_count": 14,
     "metadata": {},
     "output_type": "execute_result"
    }
   ],
   "source": [
    "user_item.shape"
   ]
  },
  {
   "cell_type": "code",
   "execution_count": null,
   "metadata": {},
   "outputs": [],
   "source": []
  }
 ],
 "metadata": {
  "kernelspec": {
   "display_name": "Python 3",
   "language": "python",
   "name": "python3"
  },
  "language_info": {
   "codemirror_mode": {
    "name": "ipython",
    "version": 3
   },
   "file_extension": ".py",
   "mimetype": "text/x-python",
   "name": "python",
   "nbconvert_exporter": "python",
   "pygments_lexer": "ipython3",
   "version": "3.11.0"
  }
 },
 "nbformat": 4,
 "nbformat_minor": 2
}
